{
 "cells": [
  {
   "cell_type": "code",
   "execution_count": null,
   "metadata": {},
   "outputs": [],
   "source": [
    "# 리스트 1.5 행렬 계산을 수행하는 벤치마크 테스트용 파이썬 프로그램\n",
    "import numpy as np\n",
    "import time\n",
    "\n",
    "def mult_basic(N, M, L, a, x, y):\n",
    "    \"\"\" 행렬 계산을 사용하지 않고 for 문으로 사용해서 계산하는 함수\n",
    "        단, ndarray를 사용하지 않으면 배열을 원하는 크기로 만들기가 어렵기 때문에\n",
    "        입력 변수는 NumPy의 ndarray로 만들어 넘긴다.\n",
    "    \"\"\"\n",
    "    r = np.empty((N, L))\n",
    "    for i in range(N):\n",
    "        for j in range(L):\n",
    "            tmp = 0.0\n",
    "            for k in range(M):\n",
    "                tmp = tmp + a[k] * x[i][k] * y[k][j]\n",
    "            r[i][j] = tmp\n",
    "    return r\n",
    "\n",
    "\n",
    "def mult_fast(N, M, L, a, x, y):\n",
    "    \"\"\" NumPy의 함수를 사용한 고속 계산 함수\n",
    "        함수 mult_basic과 같은 결과를 얻는다.\n",
    "    \"\"\"\n",
    "    return np.dot(x*a, y) # 한 줄로 처리할 수 있다.\n",
    "\n",
    "if __name__ == '__main__':\n",
    "    # 계산 대상이 되는 배열 생성\n",
    "    np.random.seed(0)\n",
    "    N = 10000\n",
    "    M = 1000\n",
    "    L = 10000\n",
    "    a = np.random.random(M) - 0.5\n",
    "    x = np.random.random((N, M)) - 0.5\n",
    "    y = np.random.random((M, L)) - 0.5\n",
    "    \n",
    "    # 행렬 계산을 사용하지 않고 for문 사용\n",
    "    ts = time.time()\n",
    "    r1 = mult_basic(N, M, L, a, x, y)\n",
    "    te = time.time()\n",
    "    print(\"Basic method : %.3f [ms]\" % (1000 * (te - ts)))\n",
    "    \n",
    "    # NumPy를 사용한 고속 계산\n",
    "    ts = time.time()\n",
    "    r2 = mult_fast(N, M, L, a, x, y)\n",
    "    te = time.time()\n",
    "    print(\"Fast method : %.3f [ms]\" % (1000 * (te - ts)))"
   ]
  },
  {
   "cell_type": "code",
   "execution_count": null,
   "metadata": {
    "collapsed": true
   },
   "outputs": [],
   "source": []
  }
 ],
 "metadata": {
  "kernelspec": {
   "display_name": "Python 3",
   "language": "python",
   "name": "python3"
  },
  "language_info": {
   "codemirror_mode": {
    "name": "ipython",
    "version": 3
   },
   "file_extension": ".py",
   "mimetype": "text/x-python",
   "name": "python",
   "nbconvert_exporter": "python",
   "pygments_lexer": "ipython3",
   "version": "3.6.1"
  }
 },
 "nbformat": 4,
 "nbformat_minor": 2
}
