{
 "cells": [
  {
   "cell_type": "code",
   "execution_count": 2,
   "metadata": {},
   "outputs": [
    {
     "name": "stdout",
     "output_type": "stream",
     "text": [
      " "
     ]
    }
   ],
   "source": [
    "# -s cumulative 는 누적실행 시간을 기준으로 결과를 정렬하도록 하는 옵션으로 \n",
    "# 이렇게 하면 어느 부분에서 가장 시간이 많이 걸리는지 확인할 수 있다.\n",
    "%run -p -s cumulative prun1.py"
   ]
  },
  {
   "cell_type": "code",
   "execution_count": 3,
   "metadata": {
    "collapsed": true
   },
   "outputs": [],
   "source": [
    "import prun1"
   ]
  },
  {
   "cell_type": "code",
   "execution_count": 4,
   "metadata": {},
   "outputs": [
    {
     "name": "stdout",
     "output_type": "stream",
     "text": [
      " "
     ]
    }
   ],
   "source": [
    "# 어떤 함수가 시간을 얼마나 사용하고 있는지 파악할 수 있게 해준다.\n",
    "%prun [a, b] = prun1.func_both()"
   ]
  },
  {
   "cell_type": "code",
   "execution_count": 12,
   "metadata": {
    "collapsed": true
   },
   "outputs": [],
   "source": [
    "from fc import *"
   ]
  },
  {
   "cell_type": "code",
   "execution_count": 13,
   "metadata": {},
   "outputs": [
    {
     "name": "stderr",
     "output_type": "stream",
     "text": [
      "ERROR:root:Line magic function `%lprun` not found.\n"
     ]
    }
   ],
   "source": [
    "# func_c()를 실행하여 func_c()함수 안쪽만을 라인 프로파일링 한다.\n",
    "# ERROR:root:Line magic function `%lprun` not found. 오류 때문에 line_profiler 설치\n",
    "# pip3 install line_profiler\n",
    "%lprun -f func_c func_c()\n"
   ]
  },
  {
   "cell_type": "code",
   "execution_count": null,
   "metadata": {
    "collapsed": true
   },
   "outputs": [],
   "source": []
  }
 ],
 "metadata": {
  "kernelspec": {
   "display_name": "Python 3",
   "language": "python",
   "name": "python3"
  },
  "language_info": {
   "codemirror_mode": {
    "name": "ipython",
    "version": 3
   },
   "file_extension": ".py",
   "mimetype": "text/x-python",
   "name": "python",
   "nbconvert_exporter": "python",
   "pygments_lexer": "ipython3",
   "version": "3.6.1"
  }
 },
 "nbformat": 4,
 "nbformat_minor": 2
}
