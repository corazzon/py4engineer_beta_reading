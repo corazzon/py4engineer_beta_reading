{
 "cells": [
  {
   "cell_type": "code",
   "execution_count": 30,
   "metadata": {
    "collapsed": true
   },
   "outputs": [],
   "source": [
    "a , b = 2, 3"
   ]
  },
  {
   "cell_type": "code",
   "execution_count": 31,
   "metadata": {},
   "outputs": [
    {
     "data": {
      "text/plain": [
       "5"
      ]
     },
     "execution_count": 31,
     "metadata": {},
     "output_type": "execute_result"
    }
   ],
   "source": [
    "a + b "
   ]
  },
  {
   "cell_type": "code",
   "execution_count": 32,
   "metadata": {
    "collapsed": true
   },
   "outputs": [],
   "source": [
    "# 딕셔너리 변수 정의\n",
    "b = dict(saori=5, kenji=63, yasuko=47)"
   ]
  },
  {
   "cell_type": "code",
   "execution_count": 33,
   "metadata": {
    "collapsed": true
   },
   "outputs": [],
   "source": [
    "# 변수명 뒤에 ?를 붙인다.\n",
    "b?\n",
    "\n",
    "# Type:        dict\n",
    "# String form: {'saori': 5, 'kenji': 63, 'yasuko': 47}\n",
    "# Length:      3\n",
    "# Docstring:  \n",
    "# dict() -> new empty dictionary\n",
    "# dict(mapping) -> new dictionary initialized from a mapping object's\n",
    "#     (key, value) pairs\n",
    "# dict(iterable) -> new dictionary initialized as if via:\n",
    "#     d = {}\n",
    "#     for k, v in iterable:\n",
    "#         d[k] = v\n",
    "# dict(**kwargs) -> new dictionary initialized with the name=value pairs\n",
    "#     in the keyword argument list.  For example:  dict(one=1, two=2)"
   ]
  },
  {
   "cell_type": "code",
   "execution_count": 34,
   "metadata": {
    "collapsed": true
   },
   "outputs": [],
   "source": [
    "def my_add(x, y):\n",
    "    \"\"\"\n",
    "    두 수를 더한다.\n",
    "    \n",
    "    입력\n",
    "    ---\n",
    "    x : 첫 번째 수\n",
    "    y : 두 번째 수\n",
    "    \n",
    "    \n",
    "    출력\n",
    "    ---\n",
    "    out : x + y 의 계산결과\n",
    "    \"\"\"\n",
    "    out = x + y\n",
    "    return out"
   ]
  },
  {
   "cell_type": "code",
   "execution_count": 35,
   "metadata": {
    "collapsed": true
   },
   "outputs": [],
   "source": [
    "# my_add?로 해도 같은 결과\n",
    "?my_add\n",
    "\n",
    "# Signature: my_add(x, y)\n",
    "# Docstring:\n",
    "# 두 수를 더한다.\n",
    "\n",
    "# 입력\n",
    "# ---\n",
    "# x : 첫 번째 수\n",
    "# y : 두 번째 수\n",
    "# ....\n",
    "# File:      py4science_beta_reading/chapter03/<ipython-input-20-23ab39d052f7>\n",
    "# Type:      function"
   ]
  },
  {
   "cell_type": "code",
   "execution_count": 36,
   "metadata": {
    "collapsed": true
   },
   "outputs": [],
   "source": [
    "import scipy as sp"
   ]
  },
  {
   "cell_type": "code",
   "execution_count": 12,
   "metadata": {},
   "outputs": [],
   "source": [
    "# sp.linalg 모듈에서 이름에 'lu'가 포함된 것을 검색\n",
    "sp.linalg.*lu*?"
   ]
  },
  {
   "cell_type": "code",
   "execution_count": 37,
   "metadata": {
    "collapsed": true
   },
   "outputs": [],
   "source": [
    "# magic command\n",
    "# % 라인매직\n",
    "# %% 셀매직\n",
    "%quickref"
   ]
  },
  {
   "cell_type": "code",
   "execution_count": 38,
   "metadata": {},
   "outputs": [
    {
     "data": {
      "text/plain": [
       "7.5"
      ]
     },
     "execution_count": 38,
     "metadata": {},
     "output_type": "execute_result"
    }
   ],
   "source": [
    "d = __+ 2.5\n",
    "d"
   ]
  },
  {
   "cell_type": "code",
   "execution_count": 17,
   "metadata": {},
   "outputs": [
    {
     "name": "stdout",
     "output_type": "stream",
     "text": [
      "a\t b\t my_add\t sp\t \n"
     ]
    }
   ],
   "source": [
    "%who"
   ]
  },
  {
   "cell_type": "code",
   "execution_count": 26,
   "metadata": {},
   "outputs": [
    {
     "name": "stdout",
     "output_type": "stream",
     "text": [
      "   7: import scipy as sp\n",
      "   8:\n",
      "# sp.linalg 모듈에서 이름에 'lu'가 포함된 것을 검색\n",
      "sp.linalg.*lu*?\n",
      "   9:\n",
      "# magic command\n",
      "# % 라인매직\n",
      "# %% 셀매직\n",
      "%quickref\n"
     ]
    }
   ],
   "source": [
    "%history -no 7-9"
   ]
  },
  {
   "cell_type": "code",
   "execution_count": 19,
   "metadata": {},
   "outputs": [
    {
     "name": "stdout",
     "output_type": "stream",
     "text": [
      "\u001b[1m\u001b[36m__pycache__\u001b[m\u001b[m/     fc.py            prun1.py\r\n",
      "chapter03.ipynb  myscript.py      prun2.py\r\n"
     ]
    }
   ],
   "source": [
    "# %timeit x = np.arange(10)\n",
    "%ls"
   ]
  },
  {
   "cell_type": "code",
   "execution_count": 20,
   "metadata": {
    "collapsed": true
   },
   "outputs": [],
   "source": [
    "# !ping localhost"
   ]
  },
  {
   "cell_type": "code",
   "execution_count": 21,
   "metadata": {
    "collapsed": true
   },
   "outputs": [],
   "source": [
    "# myscript.py\n",
    "def my_add(x, y):\n",
    "    \"\"\"두 수를 더한다.\"\"\"\n",
    "    out = x + z # 버그 : 변수 z가 정의되지 않았다.\n",
    "    return out + y"
   ]
  },
  {
   "cell_type": "code",
   "execution_count": 22,
   "metadata": {},
   "outputs": [],
   "source": [
    "run myscript.py"
   ]
  },
  {
   "cell_type": "code",
   "execution_count": 23,
   "metadata": {},
   "outputs": [
    {
     "name": "stdout",
     "output_type": "stream",
     "text": [
      " "
     ]
    }
   ],
   "source": [
    "# -s cumulative 는 누적실행 시간을 기준으로 결과를 정렬하도록 하는 옵션으로 \n",
    "# 이렇게 하면 어느 부분에서 가장 시간이 많이 걸리는지 확인할 수 있다.\n",
    "%run -p -s cumulative prun1.py"
   ]
  },
  {
   "cell_type": "code",
   "execution_count": 24,
   "metadata": {
    "collapsed": true
   },
   "outputs": [],
   "source": [
    "import prun1"
   ]
  },
  {
   "cell_type": "code",
   "execution_count": 25,
   "metadata": {},
   "outputs": [
    {
     "name": "stdout",
     "output_type": "stream",
     "text": [
      " "
     ]
    }
   ],
   "source": [
    "# 어떤 함수가 시간을 얼마나 사용하고 있는지 파악할 수 있게 해준다.\n",
    "%prun [a, b] = prun1.func_both()"
   ]
  },
  {
   "cell_type": "code",
   "execution_count": 27,
   "metadata": {
    "collapsed": true
   },
   "outputs": [],
   "source": [
    "from fc import *"
   ]
  },
  {
   "cell_type": "code",
   "execution_count": 28,
   "metadata": {},
   "outputs": [
    {
     "name": "stderr",
     "output_type": "stream",
     "text": [
      "ERROR:root:Line magic function `%lprun` not found.\n"
     ]
    }
   ],
   "source": [
    "# func_c()를 실행하여 func_c()함수 안쪽만을 라인 프로파일링 한다.\n",
    "# ERROR:root:Line magic function `%lprun` not found. 오류 때문에 line_profiler 설치\n",
    "# pip3 install line_profiler\n",
    "%lprun -f func_c func_c()\n"
   ]
  },
  {
   "cell_type": "code",
   "execution_count": null,
   "metadata": {
    "collapsed": true
   },
   "outputs": [],
   "source": []
  }
 ],
 "metadata": {
  "kernelspec": {
   "display_name": "Python 3",
   "language": "python",
   "name": "python3"
  },
  "language_info": {
   "codemirror_mode": {
    "name": "ipython",
    "version": 3
   },
   "file_extension": ".py",
   "mimetype": "text/x-python",
   "name": "python",
   "nbconvert_exporter": "python",
   "pygments_lexer": "ipython3",
   "version": "3.6.1"
  }
 },
 "nbformat": 4,
 "nbformat_minor": 2
}
